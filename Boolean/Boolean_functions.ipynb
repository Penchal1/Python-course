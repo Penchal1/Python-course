{
 "cells": [
  {
   "cell_type": "code",
   "execution_count": null,
   "id": "80b2d880",
   "metadata": {},
   "outputs": [],
   "source": [
    "# Booleans are either True or false : => They are often used for logic and conditions\n",
    "\n",
    "# Validation control flows python also allows truthy values"
   ]
  },
  {
   "cell_type": "code",
   "execution_count": 1,
   "id": "898abfb6",
   "metadata": {},
   "outputs": [
    {
     "name": "stdout",
     "output_type": "stream",
     "text": [
      "True\n",
      "False\n",
      "<class 'bool'>\n"
     ]
    }
   ],
   "source": [
    "# Basic Boolean \n",
    "\n",
    "print(True)\n",
    "print(False)\n",
    "print(type(True))"
   ]
  },
  {
   "cell_type": "code",
   "execution_count": 2,
   "id": "70e41594",
   "metadata": {},
   "outputs": [
    {
     "name": "stdout",
     "output_type": "stream",
     "text": [
      "True\n",
      "True\n"
     ]
    }
   ],
   "source": [
    "# boolean functions\n",
    "\n",
    "print(bool(123)) # True (Non-zero numbers)\n",
    "print(bool(\"Hi\")) # True (Non -empty string)\n",
    "\n",
    "\n",
    "\n",
    "\n"
   ]
  },
  {
   "cell_type": "code",
   "execution_count": 8,
   "id": "4da65a92",
   "metadata": {},
   "outputs": [
    {
     "name": "stdout",
     "output_type": "stream",
     "text": [
      "False\n",
      "True\n",
      "False\n",
      "True\n",
      "False\n",
      "True\n"
     ]
    }
   ],
   "source": [
    "print(bool(())) # Empty tuple -> False\n",
    "print(bool((1))) # Tuple with value 1 -> True\n",
    "print(bool(\"\")) # Empty string -> False\n",
    "print(bool(\" \")) # empty string but space between there -> True\n",
    "print(bool(0)) # 0 represent always false\n",
    "print(bool(1)) # True\n"
   ]
  },
  {
   "cell_type": "code",
   "execution_count": 9,
   "id": "fcefcc84",
   "metadata": {},
   "outputs": [
    {
     "name": "stdout",
     "output_type": "stream",
     "text": [
      "True\n"
     ]
    }
   ],
   "source": [
    "# Check is boolean \n",
    "\n",
    "x =True\n",
    "print(isinstance(x,bool))\n",
    "\n"
   ]
  },
  {
   "cell_type": "code",
   "execution_count": 10,
   "id": "903b1963",
   "metadata": {},
   "outputs": [
    {
     "name": "stdout",
     "output_type": "stream",
     "text": [
      "True\n",
      "True\n"
     ]
    }
   ],
   "source": [
    "# More examples\n",
    "\n",
    "print(\"Hello\".startswith(\"H\"))\n",
    "print(\"Python\".endswith(\"on\"))"
   ]
  }
 ],
 "metadata": {
  "kernelspec": {
   "display_name": "Python 3",
   "language": "python",
   "name": "python3"
  },
  "language_info": {
   "codemirror_mode": {
    "name": "ipython",
    "version": 3
   },
   "file_extension": ".py",
   "mimetype": "text/x-python",
   "name": "python",
   "nbconvert_exporter": "python",
   "pygments_lexer": "ipython3",
   "version": "3.13.7"
  }
 },
 "nbformat": 4,
 "nbformat_minor": 5
}
