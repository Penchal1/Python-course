{
 "cells": [
  {
   "cell_type": "markdown",
   "id": "50893b4e",
   "metadata": {},
   "source": [
    "Lists is mutable that means you can change"
   ]
  },
  {
   "cell_type": "code",
   "execution_count": 1,
   "id": "ed26bb8f",
   "metadata": {},
   "outputs": [
    {
     "name": "stdout",
     "output_type": "stream",
     "text": [
      "[1, 2, 3, 4]\n"
     ]
    }
   ],
   "source": [
    "# List methods\n",
    "# Append method\n",
    "\n",
    "L =[1,2,3,4]\n",
    "print(L)\n"
   ]
  },
  {
   "cell_type": "code",
   "execution_count": null,
   "id": "0e69d1cf",
   "metadata": {},
   "outputs": [
    {
     "name": "stdout",
     "output_type": "stream",
     "text": [
      "[1, 2, 3, 4, 4]\n"
     ]
    }
   ],
   "source": [
    "# Append method always used to add at the last\n",
    "L.append(4)\n",
    "print(L)"
   ]
  },
  {
   "cell_type": "code",
   "execution_count": 6,
   "id": "535a6320",
   "metadata": {},
   "outputs": [
    {
     "ename": "TypeError",
     "evalue": "'str' object does not support item assignment",
     "output_type": "error",
     "traceback": [
      "\u001b[31m---------------------------------------------------------------------------\u001b[39m",
      "\u001b[31mTypeError\u001b[39m                                 Traceback (most recent call last)",
      "\u001b[36mCell\u001b[39m\u001b[36m \u001b[39m\u001b[32mIn[6]\u001b[39m\u001b[32m, line 2\u001b[39m\n\u001b[32m      1\u001b[39m s =\u001b[33m\"\u001b[39m\u001b[33mPenchal\u001b[39m\u001b[33m\"\u001b[39m\n\u001b[32m----> \u001b[39m\u001b[32m2\u001b[39m \u001b[43ms\u001b[49m\u001b[43m[\u001b[49m\u001b[32;43m0\u001b[39;49m\u001b[43m]\u001b[49m= \u001b[33m\"\u001b[39m\u001b[33mA\u001b[39m\u001b[33m\"\u001b[39m\n\u001b[32m      3\u001b[39m \u001b[38;5;28mprint\u001b[39m(s)\n",
      "\u001b[31mTypeError\u001b[39m: 'str' object does not support item assignment"
     ]
    }
   ],
   "source": [
    "s =\"Penchal\"\n",
    "s[0]= \"A\"\n",
    "print(s)"
   ]
  },
  {
   "cell_type": "code",
   "execution_count": 8,
   "id": "bcff2cd0",
   "metadata": {},
   "outputs": [
    {
     "name": "stdout",
     "output_type": "stream",
     "text": [
      "[100, 2, 3, 4]\n"
     ]
    }
   ],
   "source": [
    "S =[1,2,3,4]\n",
    "S[0] =100\n",
    "print(S)"
   ]
  },
  {
   "cell_type": "code",
   "execution_count": 10,
   "id": "e0291d53",
   "metadata": {},
   "outputs": [
    {
     "name": "stdout",
     "output_type": "stream",
     "text": [
      "['Penchal', 'Raju', 'Vamsi', 'Siri', 'S', 'w', 'a', 't', 'h', 'i']\n"
     ]
    }
   ],
   "source": [
    "# Now extend method \n",
    "\n",
    "# suppose i have an list of students names i want to add another two names at the end so extend method is perfect here\n",
    "\n",
    "student =[\"Penchal\",\"Raju\",\"Vamsi\",\"Siri\"]\n",
    "student.extend(\"Swathi\")\n",
    "print(student)"
   ]
  },
  {
   "cell_type": "code",
   "execution_count": 5,
   "id": "454c3c57",
   "metadata": {},
   "outputs": [
    {
     "name": "stdout",
     "output_type": "stream",
     "text": [
      "append: Adding a new data source to a list of sources to be ingested.\n",
      "extend: Merging multiple lists of file paths before batch processing.\n",
      "insert: Inserting a priority job at a specific position in a job queue.\n",
      "remove: Removing a deprecated column name from a list of columns.\n",
      "pop: Retrieving and removing the last failed job from a retry queue.\n",
      "clear: Clearing a list of temporary files after processing is complete.\n",
      "index: Finding the position of a specific table in a list of tables to process.\n",
      "count: Counting how many times a specific error code appears in a log list.\n",
      "sort: Sorting a list of data files by timestamp before loading.\n",
      "reverse: Reversing the order of ETL steps for rollback operations.\n",
      "copy: Creating a backup of a list of pipeline steps before making changes.\n"
     ]
    }
   ],
   "source": [
    "# List methods with real-life data engineering examples\n",
    "\n",
    "methods_examples = {\n",
    "    \"append\": \"Adding a new data source to a list of sources to be ingested.\",\n",
    "    \"extend\": \"Merging multiple lists of file paths before batch processing.\",\n",
    "    \"insert\": \"Inserting a priority job at a specific position in a job queue.\",\n",
    "    \"remove\": \"Removing a deprecated column name from a list of columns.\",\n",
    "    \"pop\": \"Retrieving and removing the last failed job from a retry queue.\",\n",
    "    \"clear\": \"Clearing a list of temporary files after processing is complete.\",\n",
    "    \"index\": \"Finding the position of a specific table in a list of tables to process.\",\n",
    "    \"count\": \"Counting how many times a specific error code appears in a log list.\",\n",
    "    \"sort\": \"Sorting a list of data files by timestamp before loading.\",\n",
    "    \"reverse\": \"Reversing the order of ETL steps for rollback operations.\",\n",
    "    \"copy\": \"Creating a backup of a list of pipeline steps before making changes.\"\n",
    "}\n",
    "\n",
    "for method, example in methods_examples.items():\n",
    "    print(f\"{method}: {example}\")"
   ]
  },
  {
   "cell_type": "code",
   "execution_count": 6,
   "id": "de478be0",
   "metadata": {},
   "outputs": [
    {
     "name": "stdout",
     "output_type": "stream",
     "text": [
      "append: [1, 2, 3, 4]\n",
      "extend: [1, 2, 3, 4, 5, 6]\n",
      "insert: [1, 10, 2, 3, 4, 5, 6]\n",
      "remove: [1, 2, 3, 4, 5, 6]\n",
      "pop: [1, 2, 3, 4, 5] | popped value: 6\n",
      "clear: []\n",
      "index of 2: 1\n",
      "count of 2: 1\n",
      "sort: [1, 2, 3]\n",
      "reverse: [3, 2, 1]\n",
      "copy: [1, 2, 3, 4, 5]\n"
     ]
    }
   ],
   "source": [
    "# List methods with simple examples\n",
    "\n",
    "sample_list = [1, 2, 3]\n",
    "\n",
    "# append: Adds an element at the end\n",
    "sample_list.append(4)\n",
    "print(\"append:\", sample_list)\n",
    "\n",
    "# extend: Adds all elements of an iterable\n",
    "sample_list.extend([5, 6])\n",
    "print(\"extend:\", sample_list)\n",
    "\n",
    "# insert: Inserts an element at a given position\n",
    "sample_list.insert(1, 10)\n",
    "print(\"insert:\", sample_list)\n",
    "\n",
    "# remove: Removes first occurrence of a value\n",
    "sample_list.remove(10)\n",
    "print(\"remove:\", sample_list)\n",
    "\n",
    "# pop: Removes and returns element at given index (default last)\n",
    "popped = sample_list.pop()\n",
    "print(\"pop:\", sample_list, \"| popped value:\", popped)\n",
    "\n",
    "# clear: Removes all elements\n",
    "copy_list = sample_list.copy()\n",
    "copy_list.clear()\n",
    "print(\"clear:\", copy_list)\n",
    "\n",
    "# index: Returns first index of a value\n",
    "idx = sample_list.index(2)\n",
    "print(\"index of 2:\", idx)\n",
    "\n",
    "# count: Counts occurrences of a value\n",
    "cnt = sample_list.count(2)\n",
    "print(\"count of 2:\", cnt)\n",
    "\n",
    "# sort: Sorts the list in place\n",
    "unsorted_list = [3, 1, 2]\n",
    "unsorted_list.sort()\n",
    "print(\"sort:\", unsorted_list)\n",
    "\n",
    "# reverse: Reverses the list in place\n",
    "unsorted_list.reverse()\n",
    "print(\"reverse:\", unsorted_list)\n",
    "\n",
    "# copy: Returns a shallow copy of the list\n",
    "copied = sample_list.copy()\n",
    "print(\"copy:\", copied)"
   ]
  }
 ],
 "metadata": {
  "kernelspec": {
   "display_name": "Python 3",
   "language": "python",
   "name": "python3"
  },
  "language_info": {
   "codemirror_mode": {
    "name": "ipython",
    "version": 3
   },
   "file_extension": ".py",
   "mimetype": "text/x-python",
   "name": "python",
   "nbconvert_exporter": "python",
   "pygments_lexer": "ipython3",
   "version": "3.13.7"
  }
 },
 "nbformat": 4,
 "nbformat_minor": 5
}
