{
 "cells": [
  {
   "cell_type": "code",
   "execution_count": null,
   "id": "0d2d95f7",
   "metadata": {},
   "outputs": [],
   "source": [
    "# you can perform arithmetic operations \n",
    "# and member ship operators\n",
    "# looping concepts\n",
    "\n",
    "# below examples "
   ]
  },
  {
   "cell_type": "code",
   "execution_count": null,
   "id": "28aa97ed",
   "metadata": {},
   "outputs": [
    {
     "name": "stdout",
     "output_type": "stream",
     "text": [
      "[1, 2, 3, 4, 5, 6, 7, 8, 9, 10]\n"
     ]
    }
   ],
   "source": [
    "L1=[1,2,3,4,5]\n",
    "L2=[6,7,8,9,10,[90]]\n",
    "\n",
    "print(L1+L2)\n"
   ]
  },
  {
   "cell_type": "code",
   "execution_count": 9,
   "id": "70d07ca8",
   "metadata": {},
   "outputs": [
    {
     "name": "stdout",
     "output_type": "stream",
     "text": [
      "True\n",
      "False\n"
     ]
    }
   ],
   "source": [
    "# Member ship operators\n",
    "\n",
    "print(1 in L1)\n",
    "print(90 in L2)\n",
    "\n"
   ]
  },
  {
   "cell_type": "code",
   "execution_count": 10,
   "id": "d77dfb0e",
   "metadata": {},
   "outputs": [
    {
     "name": "stdout",
     "output_type": "stream",
     "text": [
      "1\n",
      "2\n",
      "3\n",
      "4\n",
      "5\n"
     ]
    }
   ],
   "source": [
    "# Looping \n",
    "\n",
    "Num =[1,2,3,4,5]\n",
    "for i in Num:\n",
    "    print(i)\n"
   ]
  }
 ],
 "metadata": {
  "kernelspec": {
   "display_name": "Python 3",
   "language": "python",
   "name": "python3"
  },
  "language_info": {
   "codemirror_mode": {
    "name": "ipython",
    "version": 3
   },
   "file_extension": ".py",
   "mimetype": "text/x-python",
   "name": "python",
   "nbconvert_exporter": "python",
   "pygments_lexer": "ipython3",
   "version": "3.13.7"
  }
 },
 "nbformat": 4,
 "nbformat_minor": 5
}
