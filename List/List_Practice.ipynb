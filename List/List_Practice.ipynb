{
 "cells": [
  {
   "cell_type": "code",
   "execution_count": null,
   "id": "226f9b65",
   "metadata": {},
   "outputs": [
    {
     "name": "stdout",
     "output_type": "stream",
     "text": [
      "140717985592232\n"
     ]
    }
   ],
   "source": [
    "L = [1,2,3]\n",
    "print(id(L))"
   ]
  },
  {
   "cell_type": "code",
   "execution_count": 4,
   "id": "ea1b82e4",
   "metadata": {},
   "outputs": [
    {
     "name": "stdout",
     "output_type": "stream",
     "text": [
      "140717985592232\n",
      "140717985592264\n",
      "140717985592296\n"
     ]
    }
   ],
   "source": [
    "print(id(L[0]))\n",
    "print(id(L[1]))\n",
    "print(id(L[2]))"
   ]
  },
  {
   "cell_type": "code",
   "execution_count": 6,
   "id": "e04473ae",
   "metadata": {},
   "outputs": [
    {
     "name": "stdout",
     "output_type": "stream",
     "text": [
      "140717985592200\n"
     ]
    }
   ],
   "source": [
    "print(id(0))"
   ]
  },
  {
   "cell_type": "code",
   "execution_count": null,
   "id": "18b8d779",
   "metadata": {},
   "outputs": [],
   "source": [
    "# A list in python is collection of items\n",
    "\n",
    "# List are ordered , mutable and allows duplicates\n",
    "\n",
    "# They can hold different data types\n"
   ]
  },
  {
   "cell_type": "code",
   "execution_count": null,
   "id": "ffe2cd77",
   "metadata": {},
   "outputs": [],
   "source": [
    "# creation of list\n",
    "\n",
    "# syntax\n",
    "\n",
    "# My_List=[] => creation pf list inside open brackets you can insert any data type like int,float,bool any str"
   ]
  },
  {
   "cell_type": "code",
   "execution_count": 10,
   "id": "f50ca389",
   "metadata": {},
   "outputs": [
    {
     "name": "stdout",
     "output_type": "stream",
     "text": [
      "Apple\n",
      "Banana\n",
      "orange\n",
      "Apple\n"
     ]
    }
   ],
   "source": [
    "# Creating a list and accessing items \n",
    "# remember that values or items in the list always start with 0\n",
    "\n",
    "fruits =[\"Apple\",\"Banana\",\"orange\",\"custard_apple\"]\n",
    "\n",
    "print(fruits[0])\n",
    "print(fruits[1])\n",
    "print(fruits[2])\n",
    "print(fruits[-4])"
   ]
  },
  {
   "cell_type": "code",
   "execution_count": null,
   "id": "2c3558f4",
   "metadata": {},
   "outputs": [
    {
     "name": "stdout",
     "output_type": "stream",
     "text": [
      "[20, 30]\n",
      "[40, 50]\n",
      "[50, 40, 30, 20, 10]\n"
     ]
    }
   ],
   "source": [
    "# List slicing\n",
    "\n",
    "numbers =[10,20,30,40,50]\n",
    "\n",
    "print(numbers[1:3])\n",
    "print(numbers[3:])\n",
    "print(numbers[::-1]) # reverse a list"
   ]
  },
  {
   "cell_type": "code",
   "execution_count": 18,
   "id": "212f31c5",
   "metadata": {},
   "outputs": [
    {
     "name": "stdout",
     "output_type": "stream",
     "text": [
      "[1, 2, 3, 4, 5, 6, 7, 8]\n",
      "['Hi', 'Hi', 'Hi']\n",
      "True\n",
      "True\n"
     ]
    }
   ],
   "source": [
    "# List operations \n",
    "\n",
    "# concatenation of list\n",
    "\n",
    "x =[1,2,3,4]\n",
    "y =[5,6,7,8]\n",
    "print(x+y)\n",
    "\n",
    "# repetition\n",
    "\n",
    "print([\"Hi\"]*3)\n",
    "\n",
    "\n",
    "# member ship operator\n",
    "\n",
    "print(3 in [1,2,3])\n",
    "print(5 not in [1,2,3])"
   ]
  },
  {
   "cell_type": "code",
   "execution_count": 19,
   "id": "2c01e393",
   "metadata": {},
   "outputs": [
    {
     "name": "stdout",
     "output_type": "stream",
     "text": [
      "Penchal has best Secret\n",
      "Penchal has best The war\n",
      "Raj has best Secret\n",
      "Raj has best The war\n",
      "Swathi has best Secret\n",
      "Swathi has best The war\n"
     ]
    }
   ],
   "source": [
    "# Iterating through the list\n",
    "\n",
    "names =[\"Penchal\",\"Raj\",\"Swathi\"]\n",
    "books =[\"Secret\",\"The war\"]\n",
    "\n",
    "for name in names:\n",
    "    for book in books:\n",
    "        \n",
    "        print(f\"{name} has best {book}\")"
   ]
  },
  {
   "cell_type": "code",
   "execution_count": 25,
   "id": "5c1579f9",
   "metadata": {},
   "outputs": [
    {
     "name": "stdout",
     "output_type": "stream",
     "text": [
      "['Orange', 'Book', 'Pen', 'Apple']\n",
      "['Orange', 'Banana', 'Book', 'Pen', 'Apple']\n",
      "Apple\n",
      "None\n"
     ]
    }
   ],
   "source": [
    "# List methods\n",
    "\n",
    "order =[\"Orange\",\"Book\",\"Pen\"]\n",
    "order.append(\"Apple\")\n",
    "print(order)\n",
    "order.insert(1,\"Banana\")\n",
    "print(order)\n",
    "print(order.pop())\n",
    "print(order.sort())"
   ]
  },
  {
   "cell_type": "code",
   "execution_count": 27,
   "id": "48f0dd02",
   "metadata": {},
   "outputs": [
    {
     "name": "stdout",
     "output_type": "stream",
     "text": [
      "[1, 4, 9, 16, 25, 36, 49, 64, 81, 100]\n",
      "[2, 4, 6, 8, 10]\n"
     ]
    }
   ],
   "source": [
    "# List comprehension\n",
    "\n",
    "squares =[x**2 for x in range(1,11)]\n",
    "\n",
    "print(squares)\n",
    "\n",
    "even_numbers =[x for x in range(1,11) if x%2==0]\n",
    "print(even_numbers)"
   ]
  },
  {
   "cell_type": "code",
   "execution_count": null,
   "id": "37a96f0b",
   "metadata": {},
   "outputs": [
    {
     "name": "stdout",
     "output_type": "stream",
     "text": [
      "[1, 2, 3, 4]\n"
     ]
    }
   ],
   "source": [
    "# extend method\n",
    "\n",
    "List1 =[1,2]\n",
    "\n",
    "List1.extend([3,4])\n",
    "print(List1)\n",
    "\n"
   ]
  },
  {
   "cell_type": "code",
   "execution_count": 35,
   "id": "63d92eee",
   "metadata": {},
   "outputs": [
    {
     "name": "stdout",
     "output_type": "stream",
     "text": [
      "Apple\n",
      "Banana\n",
      "Orange\n",
      "grapes\n",
      "0 Apple\n",
      "1 Banana\n",
      "2 Orange\n",
      "3 grapes\n"
     ]
    }
   ],
   "source": [
    "# print elements with index\n",
    "\n",
    "fruits =[\"Apple\",'Banana',\"Orange\",\"grapes\"]\n",
    "\n",
    "for fruit in fruits  :\n",
    "    print(fruit)\n",
    "# with index\n",
    "\n",
    "for i ,fruit in enumerate(fruits):\n",
    "    print(i,fruit)    \n",
    "    \n",
    "    "
   ]
  },
  {
   "cell_type": "code",
   "execution_count": null,
   "id": "8acd76cc",
   "metadata": {},
   "outputs": [],
   "source": [
    "nums = [1, 2, 3, 4, 5]\n",
    "\n",
    "nums.append(6)       # add at end\n",
    "nums.extend([7, 8])  # add multiple\n",
    "nums.insert(2, 99)   # insert at position\n",
    "nums.remove(99)      # remove first occurrence\n",
    "nums.pop(1)          # remove by index\n",
    "nums.clear()         # empty list\n",
    "nums.index(3)        # find position\n",
    "nums.count(2)        # count occurrences\n",
    "nums.sort()          # sort ascending\n",
    "nums.reverse()       # reverse list\n"
   ]
  },
  {
   "cell_type": "code",
   "execution_count": 36,
   "id": "171d8014",
   "metadata": {},
   "outputs": [
    {
     "name": "stdout",
     "output_type": "stream",
     "text": [
      "6\n"
     ]
    }
   ],
   "source": [
    "# Nested list\n",
    "matrix = [\n",
    "    [1, 2, 3],\n",
    "    [4, 5, 6],\n",
    "    [7, 8, 9]\n",
    "]\n",
    "\n",
    "print(matrix[1][2])  # 6\n"
   ]
  },
  {
   "cell_type": "code",
   "execution_count": 38,
   "id": "c7a82d10",
   "metadata": {},
   "outputs": [
    {
     "name": "stdout",
     "output_type": "stream",
     "text": [
      "Bread is in the cart!\n"
     ]
    }
   ],
   "source": [
    "cart = [\"milk\", \"bread\", \"eggs\"]\n",
    "if \"bread\" in cart:\n",
    "    print(\"Bread is in the cart!\")\n"
   ]
  },
  {
   "cell_type": "code",
   "execution_count": 37,
   "id": "afbb54ff",
   "metadata": {},
   "outputs": [
    {
     "name": "stdout",
     "output_type": "stream",
     "text": [
      "86.25\n"
     ]
    }
   ],
   "source": [
    "marks = [85, 90, 78, 92]\n",
    "avg = sum(marks) / len(marks)\n",
    "print(avg)"
   ]
  }
 ],
 "metadata": {
  "kernelspec": {
   "display_name": "Python 3",
   "language": "python",
   "name": "python3"
  },
  "language_info": {
   "codemirror_mode": {
    "name": "ipython",
    "version": 3
   },
   "file_extension": ".py",
   "mimetype": "text/x-python",
   "name": "python",
   "nbconvert_exporter": "python",
   "pygments_lexer": "ipython3",
   "version": "3.13.7"
  }
 },
 "nbformat": 4,
 "nbformat_minor": 5
}
