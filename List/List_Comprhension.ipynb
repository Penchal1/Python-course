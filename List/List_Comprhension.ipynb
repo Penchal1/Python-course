{
 "cells": [
  {
   "cell_type": "markdown",
   "id": "9142258f",
   "metadata": {},
   "source": [
    "List comprehension \n",
    "\n",
    "List comprehension is provides a concise way to creating a list\n",
    "\n",
    "newList =[expression for item in iterable if condition == True]\n",
    "\n",
    "Advantages of List comprehension : \n",
    "\n",
    "-> More Time-efficient space efficient than loops\n",
    "-> Require fewer lines of code\n",
    "-> Transforms iterable statements into formula\n"
   ]
  },
  {
   "cell_type": "code",
   "execution_count": 2,
   "id": "e9934ed9",
   "metadata": {},
   "outputs": [
    {
     "name": "stdout",
     "output_type": "stream",
     "text": [
      "[1, 2, 3, 4, 5, 6, 7, 8, 9, 10]\n"
     ]
    }
   ],
   "source": [
    "# Adding 1 to 10 numbers in a list\n",
    "\n",
    "L=[]\n",
    "for i in range(1,11):\n",
    "    L.append(i)\n",
    "print(L)    "
   ]
  },
  {
   "cell_type": "code",
   "execution_count": 3,
   "id": "f1849f04",
   "metadata": {},
   "outputs": [
    {
     "name": "stdout",
     "output_type": "stream",
     "text": [
      "[1, 2, 3, 4, 5, 6, 7, 8, 9, 10]\n"
     ]
    }
   ],
   "source": [
    "# List with List- comprehension\n",
    "\n",
    "L =[i for i in range(1,11)]\n",
    "print(L)"
   ]
  },
  {
   "cell_type": "code",
   "execution_count": 13,
   "id": "22187eec",
   "metadata": {},
   "outputs": [
    {
     "name": "stdout",
     "output_type": "stream",
     "text": [
      "[[-3, -3, -3], [-3, -3, -3, -3, -3, -3], [-3, -3, -3, -3, -3, -3, -3, -3]]\n"
     ]
    }
   ],
   "source": [
    "# vector multiplication\n",
    "\n",
    "v =[3,6,8]\n",
    "s =[-3]\n",
    "\n",
    "L = [i*s for i in v]\n",
    "print(L)   \n",
    "\n",
    "   \n",
    "\n",
    "     \n",
    "    "
   ]
  },
  {
   "cell_type": "code",
   "execution_count": 14,
   "id": "0d80e33b",
   "metadata": {},
   "outputs": [
    {
     "name": "stdout",
     "output_type": "stream",
     "text": [
      "5\n",
      "10\n",
      "15\n",
      "20\n",
      "25\n",
      "30\n",
      "35\n",
      "40\n",
      "45\n",
      "50\n"
     ]
    }
   ],
   "source": [
    "# print number is if divisible by 5 or not between 1 to 50\n",
    "\n",
    "for i in range(1,51):\n",
    "    if i%5==0:\n",
    "        print(i)"
   ]
  },
  {
   "cell_type": "code",
   "execution_count": 15,
   "id": "24edcf09",
   "metadata": {},
   "outputs": [
    {
     "name": "stdout",
     "output_type": "stream",
     "text": [
      "[5, 10, 15, 20, 25, 30, 35, 40, 45, 50]\n"
     ]
    }
   ],
   "source": [
    "# with list comprehension\n",
    "\n",
    "L1 =[i for i in range(1,51) if i%5==0]\n",
    "print(L1)"
   ]
  }
 ],
 "metadata": {
  "kernelspec": {
   "display_name": "Python 3",
   "language": "python",
   "name": "python3"
  },
  "language_info": {
   "codemirror_mode": {
    "name": "ipython",
    "version": 3
   },
   "file_extension": ".py",
   "mimetype": "text/x-python",
   "name": "python",
   "nbconvert_exporter": "python",
   "pygments_lexer": "ipython3",
   "version": "3.13.7"
  }
 },
 "nbformat": 4,
 "nbformat_minor": 5
}
