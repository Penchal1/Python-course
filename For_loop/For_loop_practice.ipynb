{
 "cells": [
  {
   "cell_type": "code",
   "execution_count": 7,
   "id": "fecc289a",
   "metadata": {},
   "outputs": [
    {
     "name": "stdout",
     "output_type": "stream",
     "text": [
      " employee 1: Sunny\n",
      " employee 2: Swathi\n",
      " employee 3: Raj\n",
      " employee 4: Penchal\n"
     ]
    }
   ],
   "source": [
    "# print all employee names in a company\n",
    "employees = [\"Sunny\",\"Swathi\",\"Raj\",\"Penchal\"]\n",
    "\n",
    "for key , employee in enumerate(employees,start=+1):\n",
    "    print(f\" employee {key}: {employee}\")"
   ]
  },
  {
   "cell_type": "code",
   "execution_count": 8,
   "id": "d8d2bca8",
   "metadata": {},
   "outputs": [
    {
     "name": "stdout",
     "output_type": "stream",
     "text": [
      "Final amount : 446\n"
     ]
    }
   ],
   "source": [
    "# calculate the total bill in shopping cart\n",
    "\n",
    "cart =[200,120,79,47]\n",
    "total =0\n",
    "\n",
    "for carts in cart:\n",
    "    total+=carts\n",
    "    \n",
    "print(\"Final amount :\",total)    "
   ]
  },
  {
   "cell_type": "code",
   "execution_count": 9,
   "id": "0f87d06c",
   "metadata": {},
   "outputs": [
    {
     "name": "stdout",
     "output_type": "stream",
     "text": [
      "Even bus numbers are : 120\n",
      "Even bus numbers are : 108\n",
      "Even bus numbers are : 126\n",
      "Even bus numbers are : 154\n",
      "Even bus numbers are : 132\n"
     ]
    }
   ],
   "source": [
    "# Print all even bus numbers\n",
    "\n",
    "Bus_number =[113, 120, 103, 108, 126, 154, 132, 133,]\n",
    "\n",
    "for number in Bus_number:\n",
    "    if number%2 ==0:\n",
    "        print(\"Even bus numbers are :\", number)"
   ]
  },
  {
   "cell_type": "code",
   "execution_count": 10,
   "id": "206d2e32",
   "metadata": {},
   "outputs": [
    {
     "name": "stdout",
     "output_type": "stream",
     "text": [
      " Happy birthday my dear Sunny !\n",
      " Happy birthday my dear Raj !\n",
      " Happy birthday my dear Vamshi !\n",
      " Happy birthday my dear Sunil !\n"
     ]
    }
   ],
   "source": [
    "# send birthday whishes to your friend\n",
    "\n",
    "friend =[\"Sunny\", \"Raj\",\"Vamshi\",\"Sunil\"]\n",
    "\n",
    "for friends in friend:\n",
    "    print(f\" Happy birthday my dear {friends} !\")"
   ]
  },
  {
   "cell_type": "code",
   "execution_count": 11,
   "id": "fb6df54d",
   "metadata": {},
   "outputs": [
    {
     "name": "stdout",
     "output_type": "stream",
     "text": [
      "Highest score in the class : 87\n"
     ]
    }
   ],
   "source": [
    "# Highest score in the class\n",
    "\n",
    "scores  = [35,65,87,42,84,36,]\n",
    "\n",
    "highest =scores[0]\n",
    "\n",
    "for score in scores:\n",
    "    if score > highest:\n",
    "        highest =score\n",
    "        \n",
    "print(\"Highest score in the class :\", highest)        \n",
    "        "
   ]
  },
  {
   "cell_type": "code",
   "execution_count": 12,
   "id": "408d4a18",
   "metadata": {},
   "outputs": [
    {
     "name": "stdout",
     "output_type": "stream",
     "text": [
      " Row 1 seat 1\n",
      " Row 1 seat 2\n",
      " Row 1 seat 3\n",
      " Row 1 seat 4\n",
      " Row 1 seat 5\n",
      " Row 2 seat 1\n",
      " Row 2 seat 2\n",
      " Row 2 seat 3\n",
      " Row 2 seat 4\n",
      " Row 2 seat 5\n",
      " Row 3 seat 1\n",
      " Row 3 seat 2\n",
      " Row 3 seat 3\n",
      " Row 3 seat 4\n",
      " Row 3 seat 5\n",
      "------End Row ------\n"
     ]
    }
   ],
   "source": [
    "# seating arrangement in movie\n",
    "\n",
    "for row in range (1,4):\n",
    "    for seat in range (1,6):\n",
    "        print(f\" Row {row} seat {seat}\")\n",
    "        \n",
    "print(\"------End Row ------\")        "
   ]
  },
  {
   "cell_type": "code",
   "execution_count": 17,
   "id": "3e45119e",
   "metadata": {},
   "outputs": [
    {
     "name": "stdout",
     "output_type": "stream",
     "text": [
      "Class-6 has Maths period\n",
      "Class-6 has Physics period\n",
      "Class-6 has Science period\n",
      "Class-7 has Maths period\n",
      "Class-7 has Physics period\n",
      "Class-7 has Science period\n",
      "--------------\n"
     ]
    }
   ],
   "source": [
    "# school time table\n",
    "\n",
    "classes = [\"Class-6\",\"Class-7\"]\n",
    "Subjects = [\"Maths\",\"Physics\",\"Science\"]\n",
    "\n",
    "for cls in classes:\n",
    "    for subj in Subjects:\n",
    "        \n",
    "        print(f\"{cls} has {subj} period\")\n",
    "print(\"--------------\")        "
   ]
  },
  {
   "cell_type": "code",
   "execution_count": 18,
   "id": "5adf4bc0",
   "metadata": {},
   "outputs": [
    {
     "name": "stdout",
     "output_type": "stream",
     "text": [
      " floor1 - room 1 \n",
      " floor1 - room 2 \n",
      " floor1 - room 3 \n",
      " floor1 - room 4 \n",
      " floor1 - room 5 \n",
      " floor2 - room 1 \n",
      " floor2 - room 2 \n",
      " floor2 - room 3 \n",
      " floor2 - room 4 \n",
      " floor2 - room 5 \n",
      " floor3 - room 1 \n",
      " floor3 - room 2 \n",
      " floor3 - room 3 \n",
      " floor3 - room 4 \n",
      " floor3 - room 5 \n"
     ]
    }
   ],
   "source": [
    "# hostel room allocation\n",
    "\n",
    "for floor in range(1,4):\n",
    "    for room in range(1,6):\n",
    "        print(f\" floor{floor} - room {room} \")"
   ]
  },
  {
   "cell_type": "code",
   "execution_count": 22,
   "id": "8dafab68",
   "metadata": {},
   "outputs": [
    {
     "name": "stdout",
     "output_type": "stream",
     "text": [
      "Total passed students : 3\n"
     ]
    }
   ],
   "source": [
    "# find how many student passed in the exam\n",
    "\n",
    "marks =[20,45,65,12,90,6,30]\n",
    "\n",
    "passed =0\n",
    "\n",
    "for m in marks:\n",
    "    if m >=35:\n",
    "        passed+=1\n",
    " \n",
    "print(\"Total passed students :\", passed)        "
   ]
  },
  {
   "cell_type": "code",
   "execution_count": 23,
   "id": "a6bd2046",
   "metadata": {},
   "outputs": [
    {
     "name": "stdout",
     "output_type": "stream",
     "text": [
      "P\n",
      "e\n",
      "n\n",
      "c\n",
      "h\n",
      "a\n",
      "l\n"
     ]
    }
   ],
   "source": [
    "# print each character in a text\n",
    "\n",
    "text =\"Penchal\"\n",
    "\n",
    "for ch in text:\n",
    "    \n",
    "    print(ch)"
   ]
  },
  {
   "cell_type": "code",
   "execution_count": 25,
   "id": "efdc9c26",
   "metadata": {},
   "outputs": [
    {
     "name": "stdout",
     "output_type": "stream",
     "text": [
      " Delhi -> area1\n",
      " Delhi -> area2\n",
      " Delhi -> area3\n",
      " Mumbai -> area1\n",
      " Mumbai -> area2\n",
      " Mumbai -> area3\n"
     ]
    }
   ],
   "source": [
    "# city area mapping\n",
    "\n",
    "cities =[\"Delhi\",\"Mumbai\"]\n",
    "areas =[\"area1\",\"area2\",\"area3\"]\n",
    "\n",
    "for city in cities:\n",
    "    for area in areas:\n",
    "        \n",
    "        print(f\" {city} -> {area}\")"
   ]
  }
 ],
 "metadata": {
  "kernelspec": {
   "display_name": "Python 3",
   "language": "python",
   "name": "python3"
  },
  "language_info": {
   "codemirror_mode": {
    "name": "ipython",
    "version": 3
   },
   "file_extension": ".py",
   "mimetype": "text/x-python",
   "name": "python",
   "nbconvert_exporter": "python",
   "pygments_lexer": "ipython3",
   "version": "3.13.7"
  }
 },
 "nbformat": 4,
 "nbformat_minor": 5
}
