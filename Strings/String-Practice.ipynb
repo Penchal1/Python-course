{
 "cells": [
  {
   "cell_type": "code",
   "execution_count": null,
   "id": "311ffe40",
   "metadata": {},
   "outputs": [],
   "source": [
    "# String functions\n",
    "\n",
    "\n",
    "# Strings are most used data type in python\n",
    "\n",
    "# this section covers type conversion, transformations, formatting\n",
    "\n",
    "# indexing slicing , cleanup , search operations on strings"
   ]
  },
  {
   "cell_type": "code",
   "execution_count": 3,
   "id": "2f4c11e6",
   "metadata": {},
   "outputs": [
    {
     "name": "stdout",
     "output_type": "stream",
     "text": [
      "<class 'str'>\n",
      "<class 'int'>\n",
      "Your age is24\n"
     ]
    }
   ],
   "source": [
    "# type conversion number to strings\n",
    "\n",
    "\n",
    "name =\"Penchal raju\"\n",
    "\n",
    "print(type(name))\n",
    "\n",
    "\n",
    "age =24\n",
    "\n",
    "print(type(age))\n",
    "\n",
    "# to print like this print (\"your age is + age\") # you get an error \n",
    "\n",
    "# you have to convert it into in string type\n",
    "\n",
    "\n",
    "print('Your age is'+ str(age))"
   ]
  },
  {
   "cell_type": "code",
   "execution_count": 4,
   "id": "29cb1a87",
   "metadata": {},
   "outputs": [
    {
     "name": "stdout",
     "output_type": "stream",
     "text": [
      "12\n"
     ]
    }
   ],
   "source": [
    "# string length\n",
    "\n",
    "password =\"Penchal@9898\"\n",
    "\n",
    "print(len(password))"
   ]
  },
  {
   "cell_type": "code",
   "execution_count": 5,
   "id": "89ac6cdd",
   "metadata": {},
   "outputs": [
    {
     "name": "stdout",
     "output_type": "stream",
     "text": [
      "2\n"
     ]
    }
   ],
   "source": [
    "# counting substrings\n",
    "\n",
    "text =\"\"\"\n",
    "python is most powerful\n",
    "language is used for data engineer,data science, data analytics\n",
    "\n",
    "and ai and machine learning, thats why python is most simple and easy language\n",
    "\"\"\"\n",
    "\n",
    "print(text.count(\"python\"))"
   ]
  },
  {
   "cell_type": "code",
   "execution_count": 6,
   "id": "cd81255e",
   "metadata": {},
   "outputs": [
    {
     "name": "stdout",
     "output_type": "stream",
     "text": [
      "123.45\n"
     ]
    }
   ],
   "source": [
    "# replacing characters\n",
    "\n",
    "price =\"123,45\"\n",
    "\n",
    "print(price.replace(\",\",\".\"))"
   ]
  },
  {
   "cell_type": "code",
   "execution_count": 7,
   "id": "6f0c0d77",
   "metadata": {},
   "outputs": [
    {
     "name": "stdout",
     "output_type": "stream",
     "text": [
      "00491761234567\n"
     ]
    }
   ],
   "source": [
    "raw_number=\"+49 (176) 123-4567\"\n",
    "clean_number = raw_number.replace(\"+49\", \"0049\").replace(\"(\", \"\").replace(\")\", \"\").replace(\"-\", \"\").replace(\" \", \"\")\n",
    "print(clean_number)"
   ]
  },
  {
   "cell_type": "code",
   "execution_count": 8,
   "id": "03bdc405",
   "metadata": {},
   "outputs": [
    {
     "name": "stdout",
     "output_type": "stream",
     "text": [
      "Penchal Raju\n"
     ]
    }
   ],
   "source": [
    "# combine strings\n",
    "\n",
    "first_name =\"Penchal\"\n",
    "last_name =\"Raju\"\n",
    "\n",
    "full_name= first_name+\" \"+ last_name\n",
    "print(full_name)"
   ]
  },
  {
   "cell_type": "code",
   "execution_count": null,
   "id": "98cfcf4f",
   "metadata": {},
   "outputs": [],
   "source": []
  },
  {
   "cell_type": "code",
   "execution_count": 10,
   "id": "e02a26ff",
   "metadata": {},
   "outputs": [
    {
     "name": "stdout",
     "output_type": "stream",
     "text": [
      " my name is Sunny and age was 23 my current position in xyz company data engineer\n"
     ]
    }
   ],
   "source": [
    "# String formatting\n",
    "\n",
    "name =\"Sunny\"\n",
    "age =23\n",
    "role =\"data engineer\"\n",
    "\n",
    "# string f-expression (recommended)\n",
    "\n",
    "print(f\" my name is {name} and age was {age} my current position in xyz company {role}\")"
   ]
  },
  {
   "cell_type": "code",
   "execution_count": null,
   "id": "ac641dcd",
   "metadata": {},
   "outputs": [
    {
     "name": "stdout",
     "output_type": "stream",
     "text": [
      "['2026-08-20', '15:23']\n"
     ]
    }
   ],
   "source": [
    "# splitting strings\n",
    "\n",
    "stamp =\"2026-08-20 15:23\"\n",
    "\n",
    "print(stamp.split(\" \"))\n",
    "\n"
   ]
  },
  {
   "cell_type": "code",
   "execution_count": 14,
   "id": "bb1d93d3",
   "metadata": {},
   "outputs": [
    {
     "name": "stdout",
     "output_type": "stream",
     "text": [
      "hellohellohello\n"
     ]
    }
   ],
   "source": [
    "# repeating strings\n",
    "\n",
    "print(\"hello\" * 3)"
   ]
  },
  {
   "cell_type": "code",
   "execution_count": 17,
   "id": "e0ebbce4",
   "metadata": {},
   "outputs": [
    {
     "name": "stdout",
     "output_type": "stream",
     "text": [
      "E\n",
      "E\n",
      "s\n",
      "h\n",
      "l\n"
     ]
    }
   ],
   "source": [
    "# indexing and slicing\n",
    "\n",
    "language =\"English\"\n",
    "\n",
    "print(language[0]) # first character\n",
    "print(language[-7]) # same as above\n",
    "print(language[5])\n",
    "print(language[-1])\n",
    "print(language[3])"
   ]
  },
  {
   "cell_type": "code",
   "execution_count": 25,
   "id": "58fec346",
   "metadata": {},
   "outputs": [
    {
     "name": "stdout",
     "output_type": "stream",
     "text": [
      "2026\n",
      "2026\n",
      "08\n",
      "20\n",
      "20\n"
     ]
    }
   ],
   "source": [
    "date =\"2026-08-20\"\n",
    "print(date[0:4]) # print year\n",
    "print(date[:4]) # same print year\n",
    "print(date[5:7]) # print month\n",
    "\n",
    "print(date[8:])\n",
    "print(date[-2:])\n"
   ]
  },
  {
   "cell_type": "code",
   "execution_count": 28,
   "id": "1c9532ad",
   "metadata": {},
   "outputs": [
    {
     "name": "stdout",
     "output_type": "stream",
     "text": [
      "13\n",
      "engineering \n",
      " engineering\n",
      "engineering\n"
     ]
    }
   ],
   "source": [
    "# whitespace cleanup\n",
    "\n",
    "text =\" engineering \" # 12 remove white space 11\n",
    "print(len(text))\n",
    "print(text.lstrip()) # remove space from left\n",
    "print(text.rstrip()) # remove space from right\n",
    "print(text.strip()) # remove space from left and right"
   ]
  },
  {
   "cell_type": "code",
   "execution_count": 30,
   "id": "dd583444",
   "metadata": {},
   "outputs": [
    {
     "name": "stdout",
     "output_type": "stream",
     "text": [
      "PYTHON\n",
      "python\n"
     ]
    }
   ],
   "source": [
    "# case conversion\n",
    "\n",
    "program =\"Python\"\n",
    "\n",
    "print(program.upper())\n",
    "print(program.lower())"
   ]
  },
  {
   "cell_type": "code",
   "execution_count": 32,
   "id": "b8b06ccc",
   "metadata": {},
   "outputs": [
    {
     "name": "stdout",
     "output_type": "stream",
     "text": [
      "True\n",
      "True\n"
     ]
    }
   ],
   "source": [
    "# search operations\n",
    "\n",
    "email=\"Penchalraju98@gmail.com\"\n",
    "\n",
    "print(email.startswith(\"P\"))\n",
    "print(email.endswith(\".com\"))"
   ]
  },
  {
   "cell_type": "code",
   "execution_count": 36,
   "id": "34277eb6",
   "metadata": {},
   "outputs": [
    {
     "name": "stdout",
     "output_type": "stream",
     "text": [
      "069866\n",
      "11\n"
     ]
    }
   ],
   "source": [
    "# Partial extraction using find()\n",
    "\n",
    "phone_number=\"+91 7036069866\"\n",
    "print(phone_number[phone_number.find(\"6\")+1:])\n",
    "\n",
    "print(phone_number.find(\"8\"))"
   ]
  },
  {
   "cell_type": "code",
   "execution_count": null,
   "id": "921b550e",
   "metadata": {},
   "outputs": [],
   "source": []
  }
 ],
 "metadata": {
  "kernelspec": {
   "display_name": "Python 3",
   "language": "python",
   "name": "python3"
  },
  "language_info": {
   "codemirror_mode": {
    "name": "ipython",
    "version": 3
   },
   "file_extension": ".py",
   "mimetype": "text/x-python",
   "name": "python",
   "nbconvert_exporter": "python",
   "pygments_lexer": "ipython3",
   "version": "3.13.7"
  }
 },
 "nbformat": 4,
 "nbformat_minor": 5
}
