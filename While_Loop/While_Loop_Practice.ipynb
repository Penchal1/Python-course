{
 "cells": [
  {
   "cell_type": "code",
   "execution_count": 15,
   "id": "9ec8c8fb",
   "metadata": {},
   "outputs": [],
   "source": [
    "# WHILE LOOP\n",
    "\n",
    "# while loop keeps running as long as condition is true\n",
    "# it checks the condition before each iteration"
   ]
  },
  {
   "cell_type": "code",
   "execution_count": null,
   "id": "e3519938",
   "metadata": {},
   "outputs": [
    {
     "name": "stdout",
     "output_type": "stream",
     "text": [
      "Counting numbers : 1\n",
      "Counting numbers : 2\n",
      "Counting numbers : 3\n",
      "Counting numbers : 4\n",
      "Counting numbers : 5\n"
     ]
    }
   ],
   "source": [
    "# basic while loop example \n",
    "# print 1 t0 5\n",
    "\n",
    "count = 1\n",
    "\n",
    "while count <= 5:\n",
    "    print(\"Counting numbers :\", count)\n",
    "    count+=1"
   ]
  },
  {
   "cell_type": "code",
   "execution_count": null,
   "id": "9dda1279",
   "metadata": {},
   "outputs": [
    {
     "name": "stdout",
     "output_type": "stream",
     "text": [
      "Total amount : 248\n"
     ]
    }
   ],
   "source": [
    "# shopping cart total\n",
    "\n",
    "cart =[100,28,50,70]\n",
    "\n",
    "i =0\n",
    "\n",
    "total =0\n",
    "\n",
    "while i < len(cart):\n",
    "    total+=cart[i]\n",
    "    i+=1\n",
    "print(\"Total amount :\", total)    \n",
    "    "
   ]
  },
  {
   "cell_type": "code",
   "execution_count": null,
   "id": "ac6c84de",
   "metadata": {},
   "outputs": [
    {
     "name": "stdout",
     "output_type": "stream",
     "text": [
      " New Messages : Hi\n",
      " New Messages : How are you ?\n",
      " New Messages : Let's meet\n"
     ]
    }
   ],
   "source": [
    "# chat application\n",
    "\n",
    "import time\n",
    "\n",
    "messages =[\"Hi\",\"How are you ?\", \"Let's meet\"]\n",
    "\n",
    "i = 0\n",
    "\n",
    "while i < len(messages):\n",
    "    print(f\" New Messages : {messages[i]}\")\n",
    "    i+=1\n",
    "    time.sleep(1)"
   ]
  },
  {
   "cell_type": "code",
   "execution_count": 8,
   "id": "208b4132",
   "metadata": {},
   "outputs": [
    {
     "name": "stdout",
     "output_type": "stream",
     "text": [
      " Order placed stock left : 4\n",
      " Order placed stock left : 3\n",
      " Order placed stock left : 2\n",
      " Order placed stock left : 1\n",
      " Order placed stock left : 0\n"
     ]
    }
   ],
   "source": [
    "# product stock is still available\n",
    "\n",
    "stock = 5\n",
    "\n",
    "while stock > 0:\n",
    "    print(f\" Order placed stock left : {stock-1}\")\n",
    "    stock-=1"
   ]
  },
  {
   "cell_type": "code",
   "execution_count": null,
   "id": "fa50a784",
   "metadata": {},
   "outputs": [
    {
     "name": "stdout",
     "output_type": "stream",
     "text": [
      "Total amount 2550\n"
     ]
    }
   ],
   "source": [
    "n = 100\n",
    "total = 0\n",
    "i = 1\n",
    "\n",
    "while i <= n:\n",
    "    if i % 2 == 0: \n",
    "        total += i\n",
    "    i += 1          \n",
    "print(\"Total amount\", total)\n"
   ]
  },
  {
   "cell_type": "code",
   "execution_count": 16,
   "id": "850a1764",
   "metadata": {},
   "outputs": [
    {
     "name": "stdout",
     "output_type": "stream",
     "text": [
      "120\n"
     ]
    }
   ],
   "source": [
    "# factorial number\n",
    "\n",
    "num = 5\n",
    "fact =1\n",
    "\n",
    "while num > 0:\n",
    "    fact *=num\n",
    "\n",
    "    num-=1\n",
    "\n",
    "print(fact) "
   ]
  },
  {
   "cell_type": "code",
   "execution_count": null,
   "id": "ee95f9af",
   "metadata": {},
   "outputs": [
    {
     "name": "stdout",
     "output_type": "stream",
     "text": [
      "Your entered values [2, 3, 4, 5, 6, 7, 8, 9]\n"
     ]
    }
   ],
   "source": [
    "data =[]\n",
    "\n",
    "while True:\n",
    "    \n",
    "    value= int(input(\"enter value (type (0 or 1) to end :)\"))\n",
    "    \n",
    "    if value == 0:\n",
    "        break\n",
    "    data.append(value)\n",
    "\n",
    "print('Your entered values', data)    "
   ]
  }
 ],
 "metadata": {
  "kernelspec": {
   "display_name": "Python 3",
   "language": "python",
   "name": "python3"
  },
  "language_info": {
   "codemirror_mode": {
    "name": "ipython",
    "version": 3
   },
   "file_extension": ".py",
   "mimetype": "text/x-python",
   "name": "python",
   "nbconvert_exporter": "python",
   "pygments_lexer": "ipython3",
   "version": "3.13.7"
  }
 },
 "nbformat": 4,
 "nbformat_minor": 5
}
