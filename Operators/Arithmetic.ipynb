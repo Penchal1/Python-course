{
 "cells": [
  {
   "cell_type": "code",
   "execution_count": 1,
   "id": "bab7c623",
   "metadata": {},
   "outputs": [
    {
     "name": "stdout",
     "output_type": "stream",
     "text": [
      "30\n",
      "-10\n",
      "200\n",
      "0.5\n",
      "10\n"
     ]
    }
   ],
   "source": [
    "# An operator is a symbol which is used to perform logical operations\n",
    "\n",
    "# Arithmetic operators\n",
    "\n",
    "a =10\n",
    "b =20\n",
    "\n",
    "print(a+b)\n",
    "print(a-b)\n",
    "print(a*b)\n",
    "print(a/b)\n",
    "print(a%b)"
   ]
  },
  {
   "cell_type": "code",
   "execution_count": 3,
   "id": "08b15517",
   "metadata": {},
   "outputs": [
    {
     "name": "stdout",
     "output_type": "stream",
     "text": [
      "False\n",
      "True\n",
      "True\n",
      "False\n",
      "True\n",
      "False\n"
     ]
    }
   ],
   "source": [
    "# comparison operator\n",
    "a=10\n",
    "b=20\n",
    "print(a==b)\n",
    "print(a!=b)\n",
    "print(a<b)\n",
    "print(a>b)\n",
    "print(a<=b)\n",
    "print(a>=b)\n"
   ]
  },
  {
   "cell_type": "code",
   "execution_count": 4,
   "id": "1f13675a",
   "metadata": {},
   "outputs": [
    {
     "name": "stdout",
     "output_type": "stream",
     "text": [
      "False\n",
      "True\n",
      "False\n"
     ]
    }
   ],
   "source": [
    "# logical operators\n",
    "# used in conditional statements \n",
    "\n",
    "print(True and False)\n",
    "print(True or False)\n",
    "print(not True)"
   ]
  },
  {
   "cell_type": "code",
   "execution_count": 6,
   "id": "1d7817d0",
   "metadata": {},
   "outputs": [
    {
     "name": "stdout",
     "output_type": "stream",
     "text": [
      "30\n",
      "20\n",
      "100\n",
      "50.0\n",
      "2.0\n"
     ]
    }
   ],
   "source": [
    "# Assignment operator\n",
    "a+=10\n",
    "print(a)\n",
    "a-=10\n",
    "print(a)\n",
    "a*=5\n",
    "print(a)\n",
    "a/=2\n",
    "print(a)\n",
    "a%=3\n",
    "print(a)\n"
   ]
  },
  {
   "cell_type": "code",
   "execution_count": 12,
   "id": "59377ed6",
   "metadata": {},
   "outputs": [
    {
     "name": "stdout",
     "output_type": "stream",
     "text": [
      "True\n",
      "True\n",
      "False\n",
      "\n",
      "True\n",
      "False\n"
     ]
    }
   ],
   "source": [
    "# membership operators\n",
    "\n",
    "text =\"Hii python very powerful for data jobs\"\n",
    "\n",
    "\n",
    "# using in \n",
    "\n",
    "print(\"very\" in text)\n",
    "\n",
    "print(\"python\" in text)\n",
    "print(\"java\" in text)\n",
    "\n",
    "\n",
    "print()\n",
    "\n",
    "# using not in\n",
    "\n",
    "print(\"java\" not in text)\n",
    "print(\"python\" not in text)"
   ]
  },
  {
   "cell_type": "code",
   "execution_count": 15,
   "id": "16379999",
   "metadata": {},
   "outputs": [
    {
     "name": "stdout",
     "output_type": "stream",
     "text": [
      "True\n",
      "False\n",
      "True\n"
     ]
    }
   ],
   "source": [
    "# identity operators\n",
    "\n",
    "# is used to compare object address\n",
    "\n",
    "a =[1,2,3,4]\n",
    "b=[1,2,3,4]\n",
    "\n",
    "# here two values are same you think right\n",
    "\n",
    "print(a==b)\n",
    "# the value is true here it compares values inside the variables\n",
    "\n",
    "print(a is b)\n",
    "# here it compares the object address even though value are same it creates different address\n",
    "\n",
    "\n",
    "# is not\n",
    "\n",
    "print(a is not b)"
   ]
  }
 ],
 "metadata": {
  "kernelspec": {
   "display_name": "Python 3",
   "language": "python",
   "name": "python3"
  },
  "language_info": {
   "codemirror_mode": {
    "name": "ipython",
    "version": 3
   },
   "file_extension": ".py",
   "mimetype": "text/x-python",
   "name": "python",
   "nbconvert_exporter": "python",
   "pygments_lexer": "ipython3",
   "version": "3.13.7"
  }
 },
 "nbformat": 4,
 "nbformat_minor": 5
}
