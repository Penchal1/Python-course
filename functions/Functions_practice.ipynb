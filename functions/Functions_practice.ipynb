{
 "cells": [
  {
   "cell_type": "code",
   "execution_count": null,
   "id": "2e9e5b70",
   "metadata": {},
   "outputs": [],
   "source": [
    "# A function is a reusable block of code that perform specific task\n",
    "# Instead of writing multiple lines of code write in function use where ever you need\n",
    "# creating a function using def keyword"
   ]
  },
  {
   "cell_type": "code",
   "execution_count": 1,
   "id": "9c49d201",
   "metadata": {},
   "outputs": [
    {
     "name": "stdout",
     "output_type": "stream",
     "text": [
      "Hello world\n"
     ]
    }
   ],
   "source": [
    "# basic hello word calling function\n",
    "\n",
    "def greet():\n",
    "    print(\"Hello world\")\n",
    "    \n",
    "# to call or invoke a function by using function name\n",
    "\n",
    "greet()    "
   ]
  },
  {
   "cell_type": "code",
   "execution_count": 5,
   "id": "04871bdb",
   "metadata": {},
   "outputs": [
    {
     "name": "stdout",
     "output_type": "stream",
     "text": [
      "Hello Penchal i am an data engineer\n",
      "Hello Vamshi i am an data engineer\n",
      "Hello Raj i am an data engineer\n"
     ]
    }
   ],
   "source": [
    "def greeting(name):\n",
    "    output =f\"Hello {name} i am an data engineer\"\n",
    "    return output\n",
    "\n",
    "names=[\"Penchal\",\"Vamshi\",\"Raj\"]\n",
    "for name1 in names:\n",
    "   res= greeting(name1)\n",
    "   print(res)   \n",
    "    "
   ]
  },
  {
   "cell_type": "code",
   "execution_count": 9,
   "id": "c9cc3cb5",
   "metadata": {},
   "outputs": [
    {
     "name": "stdout",
     "output_type": "stream",
     "text": [
      "Odd number\n"
     ]
    }
   ],
   "source": [
    "# even number print using functions\n",
    "\n",
    "def odd_even(num):\n",
    "    if num%2==0:\n",
    "        return \"Even number\"\n",
    "    else:\n",
    "        return \"Odd number\"\n",
    "    \n",
    "res =odd_even(3)\n",
    "print(res)    "
   ]
  },
  {
   "cell_type": "code",
   "execution_count": 11,
   "id": "bfc45359",
   "metadata": {},
   "outputs": [
    {
     "name": "stdout",
     "output_type": "stream",
     "text": [
      "1 Odd number\n",
      "2 Even number\n",
      "3 Odd number\n",
      "4 Even number\n",
      "5 Odd number\n",
      "6 Even number\n",
      "7 Odd number\n",
      "8 Even number\n",
      "9 Odd number\n",
      "10 Even number\n"
     ]
    }
   ],
   "source": [
    "for i in range (1,11):\n",
    "   res= odd_even(i)\n",
    "   print(i,res) "
   ]
  },
  {
   "cell_type": "code",
   "execution_count": 16,
   "id": "f280047d",
   "metadata": {},
   "outputs": [
    {
     "name": "stdout",
     "output_type": "stream",
     "text": [
      "Even number\n",
      "Odd number\n",
      "Even number\n",
      "Odd number\n",
      "Even number\n",
      "Odd number\n",
      "Even number\n",
      "Odd number\n",
      "Even number\n",
      "Odd number\n",
      "Even number\n"
     ]
    }
   ],
   "source": [
    "i =0\n",
    "\n",
    "while i<=10:\n",
    "    res1 =odd_even(i)\n",
    "    print(res1)\n",
    "    i+=1\n",
    "   "
   ]
  },
  {
   "cell_type": "code",
   "execution_count": 1,
   "id": "391b9e21",
   "metadata": {},
   "outputs": [
    {
     "name": "stdout",
     "output_type": "stream",
     "text": [
      "Hello welcome to my course\n"
     ]
    }
   ],
   "source": [
    "# function without parameters\n",
    "\n",
    "def greet():\n",
    "    print(\"Hello welcome to my course\")\n",
    "    \n",
    "greet()    "
   ]
  },
  {
   "cell_type": "code",
   "execution_count": 2,
   "id": "fcfe6fea",
   "metadata": {},
   "outputs": [
    {
     "name": "stdout",
     "output_type": "stream",
     "text": [
      "Hi my name is Penchal\n",
      "Hi my name is Swathi\n"
     ]
    }
   ],
   "source": [
    "# function with parameters\n",
    "\n",
    "def greet_name(name):\n",
    "    print(f\"Hi my name is {name}\")\n",
    "\n",
    "greet_name(\"Penchal\")\n",
    "greet_name(\"Swathi\")    "
   ]
  },
  {
   "cell_type": "code",
   "execution_count": 3,
   "id": "20b7702e",
   "metadata": {},
   "outputs": [
    {
     "name": "stdout",
     "output_type": "stream",
     "text": [
      "10\n"
     ]
    }
   ],
   "source": [
    "# function with return value\n",
    "\n",
    "def add(a,b):\n",
    "    return a+b\n",
    "\n",
    "result =add(5,5)\n",
    "\n",
    "print(result)"
   ]
  },
  {
   "cell_type": "code",
   "execution_count": 4,
   "id": "6383413f",
   "metadata": {},
   "outputs": [
    {
     "name": "stdout",
     "output_type": "stream",
     "text": [
      "Hello, Raj!\n",
      "Hello, Guest!\n"
     ]
    }
   ],
   "source": [
    "# function with default parameters\n",
    "\n",
    "def greet(name=\"Guest\"):\n",
    "    print(f\"Hello, {name}!\")\n",
    "\n",
    "greet(\"Raj\")\n",
    "greet()\n"
   ]
  },
  {
   "cell_type": "code",
   "execution_count": 5,
   "id": "3a998817",
   "metadata": {},
   "outputs": [
    {
     "name": "stdout",
     "output_type": "stream",
     "text": [
      "Sum: 15\n",
      "Difference: 5\n",
      "Product: 50\n"
     ]
    }
   ],
   "source": [
    "# function with multiple return values\n",
    "def calculate(a, b):\n",
    "    return a+b, a-b, a*b\n",
    "\n",
    "sum_, diff, prod = calculate(10, 5)\n",
    "print(\"Sum:\", sum_)\n",
    "print(\"Difference:\", diff)\n",
    "print(\"Product:\", prod)\n"
   ]
  },
  {
   "cell_type": "code",
   "execution_count": 9,
   "id": "d8854c1b",
   "metadata": {},
   "outputs": [
    {
     "name": "stdout",
     "output_type": "stream",
     "text": [
      "140\n",
      " name : sunny\n",
      " age : 24\n",
      " city : Hyderabad\n"
     ]
    }
   ],
   "source": [
    "# Arbitrary arguments\n",
    "# *args $ **kwargs\n",
    "\n",
    "def total_sum(*args):\n",
    "    return sum(args)\n",
    "\n",
    "print(total_sum(20,30,40,50))\n",
    "\n",
    "\n",
    "def details(**kwargs):\n",
    "    for key, value in kwargs.items():\n",
    "        print(f\" {key} : {value}\")\n",
    "        \n",
    "details(name=\"sunny\", age=24, city=\"Hyderabad\")        "
   ]
  },
  {
   "cell_type": "code",
   "execution_count": 10,
   "id": "bc0ecc3b",
   "metadata": {},
   "outputs": [
    {
     "name": "stdout",
     "output_type": "stream",
     "text": [
      "['Swathi', 'Raj', 'Penchal']\n"
     ]
    }
   ],
   "source": [
    "# Data processing\n",
    "\n",
    "def clean_data(names):\n",
    "    return [name.strip().title() for name in names]\n",
    "\n",
    "raw =[\" swathi \", \"raj\" , \" penchal \"]\n",
    "\n",
    "print(clean_data(raw))"
   ]
  }
 ],
 "metadata": {
  "kernelspec": {
   "display_name": "Python 3",
   "language": "python",
   "name": "python3"
  },
  "language_info": {
   "codemirror_mode": {
    "name": "ipython",
    "version": 3
   },
   "file_extension": ".py",
   "mimetype": "text/x-python",
   "name": "python",
   "nbconvert_exporter": "python",
   "pygments_lexer": "ipython3",
   "version": "3.13.7"
  }
 },
 "nbformat": 4,
 "nbformat_minor": 5
}
