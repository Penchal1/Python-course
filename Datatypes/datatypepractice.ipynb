{
 "cells": [
  {
   "cell_type": "code",
   "execution_count": 3,
   "id": "0b053893",
   "metadata": {},
   "outputs": [
    {
     "name": "stdout",
     "output_type": "stream",
     "text": [
      "10\n",
      "10.0\n",
      "Hello\n",
      "hi\n",
      "True\n",
      "False\n",
      "1234\n",
      "\n",
      " \n"
     ]
    }
   ],
   "source": [
    "# A data type is a kind of value which variable is hold\n",
    "# in python there are multiple in build data types like int,float,string\n",
    "\n",
    "# in python you no need to mention what data type it is type is decided at runtime\n",
    "\n",
    "# examples of all data type in python with real scenario\n",
    "\n",
    "a =10 # int\n",
    "b = 10.0 # float\n",
    "c =\"Hello\" # str\n",
    "d ='hi' # str with single quote\n",
    "e =True  # bool\n",
    "f = False # bool\n",
    "g =\"1234\" # str but looks like a number but it is str\n",
    "h =\"\" # empty string\n",
    "i = \" \" # str with single space\n",
    "\n",
    "print (a)\n",
    "print(b)\n",
    "print(c)\n",
    "print(d)\n",
    "print(e)\n",
    "print(f)\n",
    "print(g)\n",
    "print(h)\n",
    "print(i)\n"
   ]
  },
  {
   "cell_type": "code",
   "execution_count": 5,
   "id": "1e831194",
   "metadata": {},
   "outputs": [
    {
     "name": "stdout",
     "output_type": "stream",
     "text": [
      "<class 'int'>\n",
      "<class 'float'>\n",
      "<class 'str'>\n",
      "<class 'str'>\n",
      "<class 'bool'>\n",
      "<class 'bool'>\n",
      "<class 'str'>\n"
     ]
    }
   ],
   "source": [
    "# type operator what type it is\n",
    "\n",
    "print(type(a))\n",
    "print(type(b))\n",
    "print(type(c))\n",
    "print(type(d))\n",
    "print(type(e))\n",
    "print(type(f))\n",
    "print(type(g))\n"
   ]
  },
  {
   "cell_type": "code",
   "execution_count": null,
   "id": "daecb76d",
   "metadata": {},
   "outputs": [
    {
     "name": "stdout",
     "output_type": "stream",
     "text": [
      "Order conformed\n"
     ]
    }
   ],
   "source": []
  }
 ],
 "metadata": {
  "kernelspec": {
   "display_name": "Python 3",
   "language": "python",
   "name": "python3"
  },
  "language_info": {
   "codemirror_mode": {
    "name": "ipython",
    "version": 3
   },
   "file_extension": ".py",
   "mimetype": "text/x-python",
   "name": "python",
   "nbconvert_exporter": "python",
   "pygments_lexer": "ipython3",
   "version": "3.13.7"
  }
 },
 "nbformat": 4,
 "nbformat_minor": 5
}
