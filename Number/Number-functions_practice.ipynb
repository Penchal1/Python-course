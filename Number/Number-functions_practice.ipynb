{
 "cells": [
  {
   "cell_type": "code",
   "execution_count": null,
   "id": "e351b1db",
   "metadata": {},
   "outputs": [],
   "source": [
    "# python supports different numeric types int,float,complex\n",
    "# you can also convert between types to perform  arithmetic operations\n"
   ]
  },
  {
   "cell_type": "code",
   "execution_count": 1,
   "id": "823fb31a",
   "metadata": {},
   "outputs": [
    {
     "name": "stdout",
     "output_type": "stream",
     "text": [
      "<class 'int'>\n",
      "<class 'float'>\n",
      "<class 'complex'>\n"
     ]
    }
   ],
   "source": [
    "# Numeric types\n",
    "\n",
    "x =10\n",
    "\n",
    "y =10.0\n",
    "\n",
    "z =3+2j\n",
    "\n",
    "print(type(x))\n",
    "print(type(y))\n",
    "print(type(z))"
   ]
  },
  {
   "cell_type": "code",
   "execution_count": 4,
   "id": "f366c317",
   "metadata": {},
   "outputs": [
    {
     "name": "stdout",
     "output_type": "stream",
     "text": [
      "<class 'str'>\n",
      "<class 'int'>\n",
      "20.0\n"
     ]
    }
   ],
   "source": [
    "# type conversion\n",
    "\n",
    "x =\"20\"\n",
    "\n",
    "print(type(x))\n",
    "\n",
    "x =int(x)\n",
    "print(type(x))\n",
    "\n",
    "\n",
    "# float conversion\n",
    "\n",
    "x =float(x)\n",
    "print(x)"
   ]
  },
  {
   "cell_type": "code",
   "execution_count": null,
   "id": "8180af69",
   "metadata": {},
   "outputs": [
    {
     "name": "stdout",
     "output_type": "stream",
     "text": [
      "34\n",
      "34.2\n",
      "34\n"
     ]
    }
   ],
   "source": [
    "# rounding and math module\n",
    "\n",
    "import math\n",
    "\n",
    "rate =34.235\n",
    "print(round(rate))\n",
    "print(round(rate,1))\n",
    "\n",
    "\n",
    "print(math.floor(rate))\n",
    "print(math.ceil(rate))\n"
   ]
  },
  {
   "cell_type": "code",
   "execution_count": 9,
   "id": "cbd790be",
   "metadata": {},
   "outputs": [
    {
     "name": "stdout",
     "output_type": "stream",
     "text": [
      "3\n"
     ]
    }
   ],
   "source": [
    "# random number\n",
    "\n",
    "import random\n",
    "\n",
    "print(random.randint(1,6))"
   ]
  },
  {
   "cell_type": "code",
   "execution_count": null,
   "id": "64ed0d91",
   "metadata": {},
   "outputs": [
    {
     "name": "stdout",
     "output_type": "stream",
     "text": [
      "True\n",
      "False\n"
     ]
    }
   ],
   "source": [
    "# checking integer values\n",
    "\n",
    "x =10.0\n",
    "\n",
    "print(x.is_integer()) # it actually float but represent as int\n",
    "\n",
    "\n",
    "y =7.1\n",
    "\n",
    "print(y.is_integer()) # False -> Not a Whole number"
   ]
  },
  {
   "cell_type": "code",
   "execution_count": 15,
   "id": "344f6491",
   "metadata": {},
   "outputs": [
    {
     "name": "stdout",
     "output_type": "stream",
     "text": [
      "True\n",
      "True\n"
     ]
    }
   ],
   "source": [
    "# Type checking\n",
    "\n",
    "x =10\n",
    "y=True\n",
    "\n",
    "print(isinstance(x,int))\n",
    "print(isinstance(y,bool))"
   ]
  }
 ],
 "metadata": {
  "kernelspec": {
   "display_name": "Python 3",
   "language": "python",
   "name": "python3"
  },
  "language_info": {
   "codemirror_mode": {
    "name": "ipython",
    "version": 3
   },
   "file_extension": ".py",
   "mimetype": "text/x-python",
   "name": "python",
   "nbconvert_exporter": "python",
   "pygments_lexer": "ipython3",
   "version": "3.13.7"
  }
 },
 "nbformat": 4,
 "nbformat_minor": 5
}
