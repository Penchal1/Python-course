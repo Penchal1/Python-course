{
 "cells": [
  {
   "cell_type": "code",
   "execution_count": 7,
   "id": "6fb4d6f5",
   "metadata": {},
   "outputs": [
    {
     "name": "stdout",
     "output_type": "stream",
     "text": [
      "Positive\n"
     ]
    }
   ],
   "source": [
    "# check if is a number is positive ,negative or zero\n",
    "\n",
    "num =10\n",
    "\n",
    "if num > 0:\n",
    "    print(\"Positive\")\n",
    "elif num < 0:\n",
    "    print(\"Negative\")\n",
    "else:\n",
    "    print(\"Zero\")"
   ]
  },
  {
   "cell_type": "code",
   "execution_count": 8,
   "id": "83179a36",
   "metadata": {},
   "outputs": [
    {
     "name": "stdout",
     "output_type": "stream",
     "text": [
      "Largest 20\n"
     ]
    }
   ],
   "source": [
    "# Largest of two numbers\n",
    "\n",
    "a = 10\n",
    "b = 20\n",
    "\n",
    "if a > b :\n",
    "    print(\"Largest\",a)\n",
    "else:\n",
    "    print(\"Largest\",b)"
   ]
  },
  {
   "cell_type": "code",
   "execution_count": 9,
   "id": "c82245a6",
   "metadata": {},
   "outputs": [
    {
     "name": "stdout",
     "output_type": "stream",
     "text": [
      "Name starts with constant\n"
     ]
    }
   ],
   "source": [
    "# vowel or constant\n",
    "\n",
    "first_letter = \"B\"\n",
    "\n",
    "if first_letter.lower() in \"aeiou\":\n",
    "    print(\"name starts with vowel\")\n",
    "else:\n",
    "    print(\"Name starts with constant\")\n",
    "\n"
   ]
  },
  {
   "cell_type": "code",
   "execution_count": 11,
   "id": "435c7c31",
   "metadata": {},
   "outputs": [
    {
     "name": "stdout",
     "output_type": "stream",
     "text": [
      "Ticket price : 200\n"
     ]
    }
   ],
   "source": [
    "# Movie ticket price\n",
    "\n",
    "age = int(input(\"Enter Your age :\"))\n",
    "\n",
    "if age <= 5:\n",
    "    print(\"Ticket is free\")\n",
    "elif age <= 12:\n",
    "    print(\"Ticket price : 100\")\n",
    "elif age <= 59:\n",
    "    print(\"Ticket price : 200\")\n",
    "else:\n",
    "    print(\"Ticket price : 120 (senior citizen)\")"
   ]
  },
  {
   "cell_type": "code",
   "execution_count": 12,
   "id": "76788df8",
   "metadata": {},
   "outputs": [
    {
     "name": "stdout",
     "output_type": "stream",
     "text": [
      "C\n"
     ]
    }
   ],
   "source": [
    "# Student marks calculator\n",
    "\n",
    "marks =72\n",
    "\n",
    "if marks >= 90:\n",
    "    print(\"A\")\n",
    "elif marks >=80:\n",
    "    print(\"B\")\n",
    "elif marks >=70:\n",
    "    print(\"C\")\n",
    "else:\n",
    "    print(\"Fail\")"
   ]
  },
  {
   "cell_type": "code",
   "execution_count": 13,
   "id": "9f92d463",
   "metadata": {},
   "outputs": [
    {
     "name": "stdout",
     "output_type": "stream",
     "text": [
      "Electricity bill : 1700\n"
     ]
    }
   ],
   "source": [
    "# Electricity bill converter\n",
    "\n",
    "units =250\n",
    "\n",
    "if units <= 100:\n",
    "    bill =units * 5\n",
    "elif units <= 200:\n",
    "    bill =(100 *5) + (units -100) *7\n",
    "else:\n",
    "    bill = (100 * 5) + (100 * 7) + (units - 200) * 10\n",
    "    print(\"Electricity bill :\", bill)"
   ]
  },
  {
   "cell_type": "code",
   "execution_count": 14,
   "id": "ff64a2bd",
   "metadata": {},
   "outputs": [
    {
     "name": "stdout",
     "output_type": "stream",
     "text": [
      "Final price after all discounts : 960.0\n"
     ]
    }
   ],
   "source": [
    "# shopping discount\n",
    "\n",
    "bill_amount = 1200\n",
    "\n",
    "if bill_amount <= 500:\n",
    "    discount =0\n",
    "elif bill_amount <=1000:\n",
    "    discount =bill_amount*0.10\n",
    "else:\n",
    "    discount = bill_amount *0.20\n",
    "    final_amount =bill_amount-discount\n",
    "    print(\"Final price after all discounts :\" , final_amount)"
   ]
  }
 ],
 "metadata": {
  "kernelspec": {
   "display_name": "Python 3",
   "language": "python",
   "name": "python3"
  },
  "language_info": {
   "codemirror_mode": {
    "name": "ipython",
    "version": 3
   },
   "file_extension": ".py",
   "mimetype": "text/x-python",
   "name": "python",
   "nbconvert_exporter": "python",
   "pygments_lexer": "ipython3",
   "version": "3.13.7"
  }
 },
 "nbformat": 4,
 "nbformat_minor": 5
}
